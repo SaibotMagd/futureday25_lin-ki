{
 "cells": [
  {
   "cell_type": "markdown",
   "metadata": {},
   "source": [
    "## **Workshop-Ablauf: \"Zellen zählen ohne Handbremse – mit KI in 2 Stunden ein Forschungsprojekt\"**"
   ]
  },
  {
   "cell_type": "markdown",
   "metadata": {},
   "source": [
    "### **1. Begrüßung und Einführung (10 Minuten)**\n",
    "- **Ziele des Workshops**: Was werden wir heute lernen und erleben?\n",
    "- **Begriffsklärung**: Erklärung der Begriffe wie Hirnregionen, Zelldichte, etc.\n",
    "- **Spannungsaufbau**: Warum ist die Erforschung der Zelldichte wichtig?"
   ]
  },
  {
   "cell_type": "code",
   "execution_count": null,
   "metadata": {},
   "outputs": [],
   "source": [
    "# Platzhalter für Begrüßungscode\n",
    "print(\"Willkommen zum Workshop!\")"
   ]
  },
  {
   "cell_type": "markdown",
   "metadata": {},
   "source": [
    "### **2. Forschungsfrage und Kontext (15 Minuten)**\n",
    "- **Präsentation der Forschungsfrage**:\n",
    "  - Gibt es Unterschiede in der Zelldichte zwischen Hirnregionen?\n",
    "- **Wissenschaftlicher Hintergrund**: Überblick über Gehirnatlanten und Unterschiede in Funktionen und Strukturen."
   ]
  },
  {
   "cell_type": "code",
   "execution_count": null,
   "metadata": {},
   "outputs": [],
   "source": [
    "# Platzhalter für Forschungsfrage-Daten\n",
    "forschungsfrage = \"Gibt es Unterschiede in der Zelldichte zwischen Hirnregionen?\"\n",
    "print(f\"Forschungsfrage: {forschungsfrage}\")"
   ]
  },
  {
   "cell_type": "markdown",
   "metadata": {},
   "source": [
    "### **3. Ideensammlung und Hypothesenbildung (20 Minuten)**\n",
    "- **Kreative Gruppenarbeit**:\n",
    "  - Aufstellen einer falsifizierbaren Hypothese, z. B.: \"Größere Regionen haben geringere Zelldichten.\""
   ]
  },
  {
   "cell_type": "code",
   "execution_count": null,
   "metadata": {},
   "outputs": [],
   "source": [
    "# Platzhalter für Hypothesen-Code\n",
    "hypothese = \"Größere Regionen haben geringere Zelldichten als kleinere.\"\n",
    "print(f\"Hypothese: {hypothese}\")"
   ]
  },
  {
   "cell_type": "markdown",
   "metadata": {},
   "source": [
    "### **4. Vorbereitung der Analyse (30 Minuten)**\n",
    "- **Technische Einführung**:\n",
    "  - **Clearing und Staining**: Schritte zur Vorbereitung der Bilddateien."
   ]
  },
  {
   "cell_type": "code",
   "execution_count": 3,
   "metadata": {},
   "outputs": [
    {
     "name": "stdout",
     "output_type": "stream",
     "text": [
      "Datei erfolgreich heruntergeladen!\n"
     ]
    }
   ],
   "source": [
    "# Bild download:\n",
    "import requests\n",
    "\n",
    "# URL zur Nextcloud-Datei\n",
    "nextcloud_url = \"https://ncloud.lin-magdeburg.de/s/xmxWKAaafbZK8qi/download/resampled_autofluorescence.tif\"\n",
    "\n",
    "# Herunterladen der Datei\n",
    "response = requests.get(nextcloud_url)\n",
    "if response.status_code == 200:\n",
    "    with open(\"resampled_auto.tif\", \"wb\") as file:\n",
    "        file.write(response.content)\n",
    "    print(\"Datei erfolgreich heruntergeladen!\")\n",
    "else:\n",
    "    print(f\"Fehler beim Herunterladen: {response.status_code}\")\n"
   ]
  },
  {
   "cell_type": "code",
   "execution_count": 1,
   "metadata": {},
   "outputs": [
    {
     "data": {
      "application/vnd.jupyter.widget-view+json": {
       "model_id": "57bfb6195e4f4aa59288a92a2194ab0f",
       "version_major": 2,
       "version_minor": 0
      },
      "text/plain": [
       "interactive(children=(IntSlider(value=129, description='slice_index', max=258), Output()), _dom_classes=('widg…"
      ]
     },
     "metadata": {},
     "output_type": "display_data"
    }
   ],
   "source": [
    "# Platzhalter für Bildvorbereitung\n",
    "import matplotlib.pyplot as plt\n",
    "from ipywidgets import interact\n",
    "import numpy as np\n",
    "from skimage import io\n",
    "\n",
    "# 3D-TIF-Datei laden\n",
    "file_path = \"resampled_auto.tif\"  # Pfad zur Datei anpassen\n",
    "image_data = io.imread(file_path)\n",
    "\n",
    "# Interaktive Ansicht der 3D-Ebenen\n",
    "def display_slice(slice_index):\n",
    "    plt.imshow(image_data[slice_index], cmap=\"gray\")\n",
    "    plt.title(f\"Slice {slice_index}\")\n",
    "    plt.axis(\"off\")\n",
    "    plt.show()\n",
    "\n",
    "# Slider für Slice-Auswahl\n",
    "interact(display_slice, slice_index=(0, image_data.shape[0] - 1));\n",
    "\n"
   ]
  },
  {
   "cell_type": "markdown",
   "metadata": {},
   "source": [
    "### **5. Datenanalyse mit KI (30 Minuten)**\n",
    "- **Hands-On Aktivität**:\n",
    "  - Automatische Zellanalyse und Berechnungen."
   ]
  },
  {
   "cell_type": "code",
   "execution_count": null,
   "metadata": {},
   "outputs": [],
   "source": [
    "# Platzhalter für Datenanalyse\n",
    "def analyze_cells(image):\n",
    "    # Simulierter Code für Zellanalyse\n",
    "    return \"Zellanalyse abgeschlossen\"\n",
    "\n",
    "result = analyze_cells(image)\n",
    "print(result)"
   ]
  },
  {
   "cell_type": "markdown",
   "metadata": {},
   "source": [
    "### **6. Statistischer Vergleich und Visualisierung (25 Minuten)**\n",
    "- **Statistische Tests** und Diagrammerstellung."
   ]
  },
  {
   "cell_type": "code",
   "execution_count": null,
   "metadata": {},
   "outputs": [],
   "source": [
    "# Platzhalter für Visualisierung\n",
    "import matplotlib.pyplot as plt\n",
    "data = [10, 15, 20, 25]\n",
    "plt.plot(data)\n",
    "plt.title(\"Zellzählungsergebnisse\")\n",
    "plt.show()"
   ]
  },
  {
   "cell_type": "markdown",
   "metadata": {},
   "source": [
    "### **7. Abschluss und Diskussion (10 Minuten)**\n",
    "- **Ergebnisse besprechen** und Reflexion."
   ]
  },
  {
   "cell_type": "code",
   "execution_count": null,
   "metadata": {},
   "outputs": [],
   "source": [
    "# Platzhalter für Diskussion\n",
    "abschluss = \"Die Analyse liefert spannende Einblicke in die Zelldichte.\"\n",
    "print(abschluss)"
   ]
  }
 ],
 "metadata": {
  "kernelspec": {
   "display_name": "Python 3 (ipykernel)",
   "language": "python",
   "name": "python3"
  },
  "language_info": {
   "codemirror_mode": {
    "name": "ipython",
    "version": 3
   },
   "file_extension": ".py",
   "mimetype": "text/x-python",
   "name": "python",
   "nbconvert_exporter": "python",
   "pygments_lexer": "ipython3",
   "version": "3.13.1"
  }
 },
 "nbformat": 4,
 "nbformat_minor": 4
}
